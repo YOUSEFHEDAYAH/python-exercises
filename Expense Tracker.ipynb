{
 "cells": [
  {
   "cell_type": "code",
   "execution_count": 24,
   "id": "6075d088",
   "metadata": {},
   "outputs": [],
   "source": [
    "import json\n"
   ]
  },
  {
   "cell_type": "code",
   "execution_count": 25,
   "id": "8c4ac5ca",
   "metadata": {},
   "outputs": [],
   "source": [
    "# -----------------------------Additional Functions-----------------------------\n",
    "def add_expense(expenses, amount, category):\n",
    "    expense = {\"amount\": amount, \"category\": category}\n",
    "    expenses.append(expense)\n",
    "    return expenses\n"
   ]
  },
  {
   "cell_type": "code",
   "execution_count": 26,
   "id": "774549d4",
   "metadata": {},
   "outputs": [],
   "source": [
    "# -----------------------------Write Expenses to File-----------------------------\n",
    "def write_expenses_to_file(expenses, filename=r\"C:\\Users\\USer\\OneDrive - Hashemite University\\Desktop\\self devlompent\\sitech ass\\expensessss.txt\"):\n",
    "    with open(filename, \"w\") as f:\n",
    "        json.dump(expenses, f) \n"
   ]
  },
  {
   "cell_type": "code",
   "execution_count": 27,
   "id": "8e6be804",
   "metadata": {},
   "outputs": [],
   "source": [
    "# -----------------------------Load Expenses from File-----------------------------\n",
    "def load_expenses_from_file(filename=r\"C:\\Users\\USer\\OneDrive - Hashemite University\\Desktop\\self devlompent\\sitech ass\\expensessss.txt\"):\n",
    "    try:\n",
    "        with open(filename, \"r\") as f:\n",
    "            return json.load(f)   #returns the list of expenses from the file\n",
    "    except FileNotFoundError:\n",
    "        return []  \n"
   ]
  },
  {
   "cell_type": "code",
   "execution_count": 28,
   "id": "f34dccdc",
   "metadata": {},
   "outputs": [],
   "source": [
    "# -----------------------------Additional Function to Update Expense-----------------------------\n",
    "def update_expense(filename=r\"C:\\Users\\USer\\OneDrive - Hashemite University\\Desktop\\self devlompent\\sitech ass\\expensessss.txt\", index=0, new_amount=None, new_category=None):\n",
    "    expenses = load_expenses_from_file(filename)\n",
    "    if 0 <= index < len(expenses):\n",
    "        if new_amount is not None:\n",
    "            expenses[index][\"amount\"] = new_amount\n",
    "        if new_category is not None:\n",
    "            expenses[index][\"category\"] = new_category\n",
    "        write_expenses_to_file(expenses, filename)\n",
    "    else:\n",
    "        print(\"There is no expense with this number\")\n"
   ]
  },
  {
   "cell_type": "code",
   "execution_count": 29,
   "id": "42ade3a9",
   "metadata": {},
   "outputs": [],
   "source": [
    "# -----------------------------total expenses-----------------------------\n",
    "def calculate_total_expenses(filename=r\"C:\\Users\\USer\\OneDrive - Hashemite University\\Desktop\\self devlompent\\sitech ass\\expensessss.txt\"):\n",
    "    expenses = load_expenses_from_file(filename)\n",
    "    return sum(item[\"amount\"] for item in expenses)\n",
    "\n"
   ]
  },
  {
   "cell_type": "code",
   "execution_count": 30,
   "id": "1dbb4225",
   "metadata": {},
   "outputs": [],
   "source": [
    "# -----------------------------calculate expenses by category-----------------------------\n",
    "\n",
    "def calculate_expenses_by_category(filename=r\"C:\\Users\\USer\\OneDrive - Hashemite University\\Desktop\\self devlompent\\sitech ass\\expensessss.txt\"):\n",
    "    expenses = load_expenses_from_file(filename)\n",
    "    summary = {}\n",
    "    for item in expenses:\n",
    "        category = item[\"category\"]\n",
    "        summary[category] = summary.get(category, 0) + item[\"amount\"]\n",
    "    return summary"
   ]
  },
  {
   "cell_type": "markdown",
   "id": "b10dcd8c",
   "metadata": {},
   "source": [
    "##Example of experiment"
   ]
  },
  {
   "cell_type": "code",
   "execution_count": 31,
   "id": "98f0cc57",
   "metadata": {},
   "outputs": [
    {
     "name": "stdout",
     "output_type": "stream",
     "text": [
      "list of expense [{'amount': 100, 'category': 'coffee'}, {'amount': 100, 'category': 'lunch'}, {'amount': 100, 'category': 'taxi'}, {'amount': 100, 'category': 'shopping'}, {'amount': 100, 'category': 'coffee'}, {'amount': 100, 'category': 'lunch'}, {'amount': 100, 'category': 'taxi'}, {'amount': 100, 'category': 'shopping'}]\n",
      "after editing  [{'amount': 100, 'category': 'coffee'}, {'amount': 15, 'category': 'lunch'}, {'amount': 100, 'category': 'taxi'}, {'amount': 100, 'category': 'shopping'}, {'amount': 100, 'category': 'coffee'}, {'amount': 100, 'category': 'lunch'}, {'amount': 100, 'category': 'taxi'}, {'amount': 100, 'category': 'shopping'}]\n",
      "💰the total expense  715\n",
      "total expense by category {'coffee': 200, 'lunch': 115, 'taxi': 200, 'shopping': 200}\n"
     ]
    }
   ],
   "source": [
    "if __name__ == \"__main__\":\n",
    "    expenses = load_expenses_from_file()\n",
    "\n",
    "    add_expense(expenses, 100, \"coffee\")\n",
    "    add_expense(expenses, 100, \"lunch\")\n",
    "    add_expense(expenses, 100, \"taxi\")\n",
    "    add_expense(expenses, 100, \"shopping\")\n",
    "\n",
    "    write_expenses_to_file(expenses,r\"C:\\Users\\USer\\OneDrive - Hashemite University\\Desktop\\self devlompent\\sitech ass\\expensessss.txt\")\n",
    "\n",
    "    # show the expenses\n",
    "    print(\"list of expense\", load_expenses_from_file())\n",
    "    #to edit an expense\n",
    "    update_expense(index=1, new_amount=15)\n",
    "    print(\"after editing \", load_expenses_from_file())\n",
    "\n",
    "    # the total expenses\n",
    "    print(\"💰the total expense \", calculate_total_expenses())\n",
    "\n",
    "    # total expenses by category\n",
    "    print(\"total expense by category\", calculate_expenses_by_category())\n"
   ]
  }
 ],
 "metadata": {
  "kernelspec": {
   "display_name": "base",
   "language": "python",
   "name": "python3"
  },
  "language_info": {
   "codemirror_mode": {
    "name": "ipython",
    "version": 3
   },
   "file_extension": ".py",
   "mimetype": "text/x-python",
   "name": "python",
   "nbconvert_exporter": "python",
   "pygments_lexer": "ipython3",
   "version": "3.12.7"
  }
 },
 "nbformat": 4,
 "nbformat_minor": 5
}
